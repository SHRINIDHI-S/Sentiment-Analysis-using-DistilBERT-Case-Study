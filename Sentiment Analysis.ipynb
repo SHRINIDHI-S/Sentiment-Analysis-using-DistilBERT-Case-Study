{
  "nbformat": 4,
  "nbformat_minor": 0,
  "metadata": {
    "colab": {
      "provenance": []
    },
    "kernelspec": {
      "name": "python3",
      "display_name": "Python 3"
    },
    "language_info": {
      "name": "python"
    },
    "widgets": {
      "application/vnd.jupyter.widget-state+json": {
        "328901608b864457960b50808996ee51": {
          "model_module": "@jupyter-widgets/controls",
          "model_name": "HBoxModel",
          "model_module_version": "1.5.0",
          "state": {
            "_dom_classes": [],
            "_model_module": "@jupyter-widgets/controls",
            "_model_module_version": "1.5.0",
            "_model_name": "HBoxModel",
            "_view_count": null,
            "_view_module": "@jupyter-widgets/controls",
            "_view_module_version": "1.5.0",
            "_view_name": "HBoxView",
            "box_style": "",
            "children": [
              "IPY_MODEL_6a04ddbcbfd14ae98fc1065d2d9eafec",
              "IPY_MODEL_ff91099d4e1040b7b7e22b419971b163",
              "IPY_MODEL_afcb7474c27e4a929a0cd7aa939243e5"
            ],
            "layout": "IPY_MODEL_466146fb1521479389f9914a2bed71c3"
          }
        },
        "6a04ddbcbfd14ae98fc1065d2d9eafec": {
          "model_module": "@jupyter-widgets/controls",
          "model_name": "HTMLModel",
          "model_module_version": "1.5.0",
          "state": {
            "_dom_classes": [],
            "_model_module": "@jupyter-widgets/controls",
            "_model_module_version": "1.5.0",
            "_model_name": "HTMLModel",
            "_view_count": null,
            "_view_module": "@jupyter-widgets/controls",
            "_view_module_version": "1.5.0",
            "_view_name": "HTMLView",
            "description": "",
            "description_tooltip": null,
            "layout": "IPY_MODEL_1c7579e139af4704a1ffd3ed31e446a8",
            "placeholder": "​",
            "style": "IPY_MODEL_4900fe33a5464e329d5f14e285ca6ffb",
            "value": "model.safetensors: 100%"
          }
        },
        "ff91099d4e1040b7b7e22b419971b163": {
          "model_module": "@jupyter-widgets/controls",
          "model_name": "FloatProgressModel",
          "model_module_version": "1.5.0",
          "state": {
            "_dom_classes": [],
            "_model_module": "@jupyter-widgets/controls",
            "_model_module_version": "1.5.0",
            "_model_name": "FloatProgressModel",
            "_view_count": null,
            "_view_module": "@jupyter-widgets/controls",
            "_view_module_version": "1.5.0",
            "_view_name": "ProgressView",
            "bar_style": "success",
            "description": "",
            "description_tooltip": null,
            "layout": "IPY_MODEL_cabbfa3a553246e4b78e005dc6f272e1",
            "max": 267954768,
            "min": 0,
            "orientation": "horizontal",
            "style": "IPY_MODEL_f99deceab332450aa320671f14bf7d57",
            "value": 267954768
          }
        },
        "afcb7474c27e4a929a0cd7aa939243e5": {
          "model_module": "@jupyter-widgets/controls",
          "model_name": "HTMLModel",
          "model_module_version": "1.5.0",
          "state": {
            "_dom_classes": [],
            "_model_module": "@jupyter-widgets/controls",
            "_model_module_version": "1.5.0",
            "_model_name": "HTMLModel",
            "_view_count": null,
            "_view_module": "@jupyter-widgets/controls",
            "_view_module_version": "1.5.0",
            "_view_name": "HTMLView",
            "description": "",
            "description_tooltip": null,
            "layout": "IPY_MODEL_a6c9c98da957477f9ff3b11ae5c0435d",
            "placeholder": "​",
            "style": "IPY_MODEL_5da04776c44c4375a32174365d440756",
            "value": " 268M/268M [00:04&lt;00:00, 71.2MB/s]"
          }
        },
        "466146fb1521479389f9914a2bed71c3": {
          "model_module": "@jupyter-widgets/base",
          "model_name": "LayoutModel",
          "model_module_version": "1.2.0",
          "state": {
            "_model_module": "@jupyter-widgets/base",
            "_model_module_version": "1.2.0",
            "_model_name": "LayoutModel",
            "_view_count": null,
            "_view_module": "@jupyter-widgets/base",
            "_view_module_version": "1.2.0",
            "_view_name": "LayoutView",
            "align_content": null,
            "align_items": null,
            "align_self": null,
            "border": null,
            "bottom": null,
            "display": null,
            "flex": null,
            "flex_flow": null,
            "grid_area": null,
            "grid_auto_columns": null,
            "grid_auto_flow": null,
            "grid_auto_rows": null,
            "grid_column": null,
            "grid_gap": null,
            "grid_row": null,
            "grid_template_areas": null,
            "grid_template_columns": null,
            "grid_template_rows": null,
            "height": null,
            "justify_content": null,
            "justify_items": null,
            "left": null,
            "margin": null,
            "max_height": null,
            "max_width": null,
            "min_height": null,
            "min_width": null,
            "object_fit": null,
            "object_position": null,
            "order": null,
            "overflow": null,
            "overflow_x": null,
            "overflow_y": null,
            "padding": null,
            "right": null,
            "top": null,
            "visibility": null,
            "width": null
          }
        },
        "1c7579e139af4704a1ffd3ed31e446a8": {
          "model_module": "@jupyter-widgets/base",
          "model_name": "LayoutModel",
          "model_module_version": "1.2.0",
          "state": {
            "_model_module": "@jupyter-widgets/base",
            "_model_module_version": "1.2.0",
            "_model_name": "LayoutModel",
            "_view_count": null,
            "_view_module": "@jupyter-widgets/base",
            "_view_module_version": "1.2.0",
            "_view_name": "LayoutView",
            "align_content": null,
            "align_items": null,
            "align_self": null,
            "border": null,
            "bottom": null,
            "display": null,
            "flex": null,
            "flex_flow": null,
            "grid_area": null,
            "grid_auto_columns": null,
            "grid_auto_flow": null,
            "grid_auto_rows": null,
            "grid_column": null,
            "grid_gap": null,
            "grid_row": null,
            "grid_template_areas": null,
            "grid_template_columns": null,
            "grid_template_rows": null,
            "height": null,
            "justify_content": null,
            "justify_items": null,
            "left": null,
            "margin": null,
            "max_height": null,
            "max_width": null,
            "min_height": null,
            "min_width": null,
            "object_fit": null,
            "object_position": null,
            "order": null,
            "overflow": null,
            "overflow_x": null,
            "overflow_y": null,
            "padding": null,
            "right": null,
            "top": null,
            "visibility": null,
            "width": null
          }
        },
        "4900fe33a5464e329d5f14e285ca6ffb": {
          "model_module": "@jupyter-widgets/controls",
          "model_name": "DescriptionStyleModel",
          "model_module_version": "1.5.0",
          "state": {
            "_model_module": "@jupyter-widgets/controls",
            "_model_module_version": "1.5.0",
            "_model_name": "DescriptionStyleModel",
            "_view_count": null,
            "_view_module": "@jupyter-widgets/base",
            "_view_module_version": "1.2.0",
            "_view_name": "StyleView",
            "description_width": ""
          }
        },
        "cabbfa3a553246e4b78e005dc6f272e1": {
          "model_module": "@jupyter-widgets/base",
          "model_name": "LayoutModel",
          "model_module_version": "1.2.0",
          "state": {
            "_model_module": "@jupyter-widgets/base",
            "_model_module_version": "1.2.0",
            "_model_name": "LayoutModel",
            "_view_count": null,
            "_view_module": "@jupyter-widgets/base",
            "_view_module_version": "1.2.0",
            "_view_name": "LayoutView",
            "align_content": null,
            "align_items": null,
            "align_self": null,
            "border": null,
            "bottom": null,
            "display": null,
            "flex": null,
            "flex_flow": null,
            "grid_area": null,
            "grid_auto_columns": null,
            "grid_auto_flow": null,
            "grid_auto_rows": null,
            "grid_column": null,
            "grid_gap": null,
            "grid_row": null,
            "grid_template_areas": null,
            "grid_template_columns": null,
            "grid_template_rows": null,
            "height": null,
            "justify_content": null,
            "justify_items": null,
            "left": null,
            "margin": null,
            "max_height": null,
            "max_width": null,
            "min_height": null,
            "min_width": null,
            "object_fit": null,
            "object_position": null,
            "order": null,
            "overflow": null,
            "overflow_x": null,
            "overflow_y": null,
            "padding": null,
            "right": null,
            "top": null,
            "visibility": null,
            "width": null
          }
        },
        "f99deceab332450aa320671f14bf7d57": {
          "model_module": "@jupyter-widgets/controls",
          "model_name": "ProgressStyleModel",
          "model_module_version": "1.5.0",
          "state": {
            "_model_module": "@jupyter-widgets/controls",
            "_model_module_version": "1.5.0",
            "_model_name": "ProgressStyleModel",
            "_view_count": null,
            "_view_module": "@jupyter-widgets/base",
            "_view_module_version": "1.2.0",
            "_view_name": "StyleView",
            "bar_color": null,
            "description_width": ""
          }
        },
        "a6c9c98da957477f9ff3b11ae5c0435d": {
          "model_module": "@jupyter-widgets/base",
          "model_name": "LayoutModel",
          "model_module_version": "1.2.0",
          "state": {
            "_model_module": "@jupyter-widgets/base",
            "_model_module_version": "1.2.0",
            "_model_name": "LayoutModel",
            "_view_count": null,
            "_view_module": "@jupyter-widgets/base",
            "_view_module_version": "1.2.0",
            "_view_name": "LayoutView",
            "align_content": null,
            "align_items": null,
            "align_self": null,
            "border": null,
            "bottom": null,
            "display": null,
            "flex": null,
            "flex_flow": null,
            "grid_area": null,
            "grid_auto_columns": null,
            "grid_auto_flow": null,
            "grid_auto_rows": null,
            "grid_column": null,
            "grid_gap": null,
            "grid_row": null,
            "grid_template_areas": null,
            "grid_template_columns": null,
            "grid_template_rows": null,
            "height": null,
            "justify_content": null,
            "justify_items": null,
            "left": null,
            "margin": null,
            "max_height": null,
            "max_width": null,
            "min_height": null,
            "min_width": null,
            "object_fit": null,
            "object_position": null,
            "order": null,
            "overflow": null,
            "overflow_x": null,
            "overflow_y": null,
            "padding": null,
            "right": null,
            "top": null,
            "visibility": null,
            "width": null
          }
        },
        "5da04776c44c4375a32174365d440756": {
          "model_module": "@jupyter-widgets/controls",
          "model_name": "DescriptionStyleModel",
          "model_module_version": "1.5.0",
          "state": {
            "_model_module": "@jupyter-widgets/controls",
            "_model_module_version": "1.5.0",
            "_model_name": "DescriptionStyleModel",
            "_view_count": null,
            "_view_module": "@jupyter-widgets/base",
            "_view_module_version": "1.2.0",
            "_view_name": "StyleView",
            "description_width": ""
          }
        }
      }
    }
  },
  "cells": [
    {
      "cell_type": "markdown",
      "source": [
        "# 🚀 Sentiment Analysis using DistilBERT on CPU"
      ],
      "metadata": {
        "id": "QA8HcokCWonD"
      }
    },
    {
      "cell_type": "markdown",
      "source": [
        "## 📌 Overview\n",
        "This project builds a **lightweight Sentiment Analysis Model** using **DistilBERT** that:  \n",
        "✅ **Classifies** text into **Positive** or **Negative**  \n",
        "✅ **Trains quickly with minimal resources**  \n",
        "✅ **Deploys as an API using FastAPI**  \n"
      ],
      "metadata": {
        "id": "wmwTanVvWd3g"
      }
    },
    {
      "cell_type": "markdown",
      "source": [
        "## 🛠️ Project Steps\n",
        "1️⃣ **Install Dependencies**  \n",
        "2️⃣ **Load a Small Sentiment Analysis Dataset**  \n",
        "3️⃣ **Preprocess & Tokenize Text**  \n",
        "4️⃣ **Train a DistilBERT Model on CPU**  \n",
        "5️⃣ **Deploy as an API using FastAPI**  \n"
      ],
      "metadata": {
        "id": "b_Q7I1xBWhsB"
      }
    },
    {
      "cell_type": "markdown",
      "source": [
        "## 📌 Step 1: Install Dependencies\n",
        "\n"
      ],
      "metadata": {
        "id": "jVB821bZWz1r"
      }
    },
    {
      "cell_type": "code",
      "execution_count": null,
      "metadata": {
        "colab": {
          "base_uri": "https://localhost:8080/"
        },
        "id": "czC2yMMpVRry",
        "outputId": "9bbc3df5-7098-4f98-c3ac-ecd2df7d5d59"
      },
      "outputs": [
        {
          "output_type": "stream",
          "name": "stdout",
          "text": [
            "Requirement already satisfied: transformers in /usr/local/lib/python3.11/dist-packages (4.48.3)\n",
            "Requirement already satisfied: datasets in /usr/local/lib/python3.11/dist-packages (3.3.2)\n",
            "Requirement already satisfied: torch in /usr/local/lib/python3.11/dist-packages (2.5.1+cu124)\n",
            "Requirement already satisfied: fastapi in /usr/local/lib/python3.11/dist-packages (0.115.8)\n",
            "Requirement already satisfied: uvicorn in /usr/local/lib/python3.11/dist-packages (0.34.0)\n",
            "Requirement already satisfied: filelock in /usr/local/lib/python3.11/dist-packages (from transformers) (3.17.0)\n",
            "Requirement already satisfied: huggingface-hub<1.0,>=0.24.0 in /usr/local/lib/python3.11/dist-packages (from transformers) (0.28.1)\n",
            "Requirement already satisfied: numpy>=1.17 in /usr/local/lib/python3.11/dist-packages (from transformers) (1.26.4)\n",
            "Requirement already satisfied: packaging>=20.0 in /usr/local/lib/python3.11/dist-packages (from transformers) (24.2)\n",
            "Requirement already satisfied: pyyaml>=5.1 in /usr/local/lib/python3.11/dist-packages (from transformers) (6.0.2)\n",
            "Requirement already satisfied: regex!=2019.12.17 in /usr/local/lib/python3.11/dist-packages (from transformers) (2024.11.6)\n",
            "Requirement already satisfied: requests in /usr/local/lib/python3.11/dist-packages (from transformers) (2.32.3)\n",
            "Requirement already satisfied: tokenizers<0.22,>=0.21 in /usr/local/lib/python3.11/dist-packages (from transformers) (0.21.0)\n",
            "Requirement already satisfied: safetensors>=0.4.1 in /usr/local/lib/python3.11/dist-packages (from transformers) (0.5.2)\n",
            "Requirement already satisfied: tqdm>=4.27 in /usr/local/lib/python3.11/dist-packages (from transformers) (4.67.1)\n",
            "Requirement already satisfied: pyarrow>=15.0.0 in /usr/local/lib/python3.11/dist-packages (from datasets) (17.0.0)\n",
            "Requirement already satisfied: dill<0.3.9,>=0.3.0 in /usr/local/lib/python3.11/dist-packages (from datasets) (0.3.8)\n",
            "Requirement already satisfied: pandas in /usr/local/lib/python3.11/dist-packages (from datasets) (2.2.2)\n",
            "Requirement already satisfied: xxhash in /usr/local/lib/python3.11/dist-packages (from datasets) (3.5.0)\n",
            "Requirement already satisfied: multiprocess<0.70.17 in /usr/local/lib/python3.11/dist-packages (from datasets) (0.70.16)\n",
            "Requirement already satisfied: fsspec<=2024.12.0,>=2023.1.0 in /usr/local/lib/python3.11/dist-packages (from fsspec[http]<=2024.12.0,>=2023.1.0->datasets) (2024.10.0)\n",
            "Requirement already satisfied: aiohttp in /usr/local/lib/python3.11/dist-packages (from datasets) (3.11.12)\n",
            "Requirement already satisfied: typing-extensions>=4.8.0 in /usr/local/lib/python3.11/dist-packages (from torch) (4.12.2)\n",
            "Requirement already satisfied: networkx in /usr/local/lib/python3.11/dist-packages (from torch) (3.4.2)\n",
            "Requirement already satisfied: jinja2 in /usr/local/lib/python3.11/dist-packages (from torch) (3.1.5)\n",
            "Requirement already satisfied: nvidia-cuda-nvrtc-cu12==12.4.127 in /usr/local/lib/python3.11/dist-packages (from torch) (12.4.127)\n",
            "Requirement already satisfied: nvidia-cuda-runtime-cu12==12.4.127 in /usr/local/lib/python3.11/dist-packages (from torch) (12.4.127)\n",
            "Requirement already satisfied: nvidia-cuda-cupti-cu12==12.4.127 in /usr/local/lib/python3.11/dist-packages (from torch) (12.4.127)\n",
            "Requirement already satisfied: nvidia-cudnn-cu12==9.1.0.70 in /usr/local/lib/python3.11/dist-packages (from torch) (9.1.0.70)\n",
            "Requirement already satisfied: nvidia-cublas-cu12==12.4.5.8 in /usr/local/lib/python3.11/dist-packages (from torch) (12.4.5.8)\n",
            "Requirement already satisfied: nvidia-cufft-cu12==11.2.1.3 in /usr/local/lib/python3.11/dist-packages (from torch) (11.2.1.3)\n",
            "Requirement already satisfied: nvidia-curand-cu12==10.3.5.147 in /usr/local/lib/python3.11/dist-packages (from torch) (10.3.5.147)\n",
            "Requirement already satisfied: nvidia-cusolver-cu12==11.6.1.9 in /usr/local/lib/python3.11/dist-packages (from torch) (11.6.1.9)\n",
            "Requirement already satisfied: nvidia-cusparse-cu12==12.3.1.170 in /usr/local/lib/python3.11/dist-packages (from torch) (12.3.1.170)\n",
            "Requirement already satisfied: nvidia-nccl-cu12==2.21.5 in /usr/local/lib/python3.11/dist-packages (from torch) (2.21.5)\n",
            "Requirement already satisfied: nvidia-nvtx-cu12==12.4.127 in /usr/local/lib/python3.11/dist-packages (from torch) (12.4.127)\n",
            "Requirement already satisfied: nvidia-nvjitlink-cu12==12.4.127 in /usr/local/lib/python3.11/dist-packages (from torch) (12.4.127)\n",
            "Requirement already satisfied: triton==3.1.0 in /usr/local/lib/python3.11/dist-packages (from torch) (3.1.0)\n",
            "Requirement already satisfied: sympy==1.13.1 in /usr/local/lib/python3.11/dist-packages (from torch) (1.13.1)\n",
            "Requirement already satisfied: mpmath<1.4,>=1.1.0 in /usr/local/lib/python3.11/dist-packages (from sympy==1.13.1->torch) (1.3.0)\n",
            "Requirement already satisfied: starlette<0.46.0,>=0.40.0 in /usr/local/lib/python3.11/dist-packages (from fastapi) (0.45.3)\n",
            "Requirement already satisfied: pydantic!=1.8,!=1.8.1,!=2.0.0,!=2.0.1,!=2.1.0,<3.0.0,>=1.7.4 in /usr/local/lib/python3.11/dist-packages (from fastapi) (2.10.6)\n",
            "Requirement already satisfied: click>=7.0 in /usr/local/lib/python3.11/dist-packages (from uvicorn) (8.1.8)\n",
            "Requirement already satisfied: h11>=0.8 in /usr/local/lib/python3.11/dist-packages (from uvicorn) (0.14.0)\n",
            "Requirement already satisfied: aiohappyeyeballs>=2.3.0 in /usr/local/lib/python3.11/dist-packages (from aiohttp->datasets) (2.4.6)\n",
            "Requirement already satisfied: aiosignal>=1.1.2 in /usr/local/lib/python3.11/dist-packages (from aiohttp->datasets) (1.3.2)\n",
            "Requirement already satisfied: attrs>=17.3.0 in /usr/local/lib/python3.11/dist-packages (from aiohttp->datasets) (25.1.0)\n",
            "Requirement already satisfied: frozenlist>=1.1.1 in /usr/local/lib/python3.11/dist-packages (from aiohttp->datasets) (1.5.0)\n",
            "Requirement already satisfied: multidict<7.0,>=4.5 in /usr/local/lib/python3.11/dist-packages (from aiohttp->datasets) (6.1.0)\n",
            "Requirement already satisfied: propcache>=0.2.0 in /usr/local/lib/python3.11/dist-packages (from aiohttp->datasets) (0.2.1)\n",
            "Requirement already satisfied: yarl<2.0,>=1.17.0 in /usr/local/lib/python3.11/dist-packages (from aiohttp->datasets) (1.18.3)\n",
            "Requirement already satisfied: annotated-types>=0.6.0 in /usr/local/lib/python3.11/dist-packages (from pydantic!=1.8,!=1.8.1,!=2.0.0,!=2.0.1,!=2.1.0,<3.0.0,>=1.7.4->fastapi) (0.7.0)\n",
            "Requirement already satisfied: pydantic-core==2.27.2 in /usr/local/lib/python3.11/dist-packages (from pydantic!=1.8,!=1.8.1,!=2.0.0,!=2.0.1,!=2.1.0,<3.0.0,>=1.7.4->fastapi) (2.27.2)\n",
            "Requirement already satisfied: charset-normalizer<4,>=2 in /usr/local/lib/python3.11/dist-packages (from requests->transformers) (3.4.1)\n",
            "Requirement already satisfied: idna<4,>=2.5 in /usr/local/lib/python3.11/dist-packages (from requests->transformers) (3.10)\n",
            "Requirement already satisfied: urllib3<3,>=1.21.1 in /usr/local/lib/python3.11/dist-packages (from requests->transformers) (2.3.0)\n",
            "Requirement already satisfied: certifi>=2017.4.17 in /usr/local/lib/python3.11/dist-packages (from requests->transformers) (2025.1.31)\n",
            "Requirement already satisfied: anyio<5,>=3.6.2 in /usr/local/lib/python3.11/dist-packages (from starlette<0.46.0,>=0.40.0->fastapi) (3.7.1)\n",
            "Requirement already satisfied: MarkupSafe>=2.0 in /usr/local/lib/python3.11/dist-packages (from jinja2->torch) (3.0.2)\n",
            "Requirement already satisfied: python-dateutil>=2.8.2 in /usr/local/lib/python3.11/dist-packages (from pandas->datasets) (2.8.2)\n",
            "Requirement already satisfied: pytz>=2020.1 in /usr/local/lib/python3.11/dist-packages (from pandas->datasets) (2025.1)\n",
            "Requirement already satisfied: tzdata>=2022.7 in /usr/local/lib/python3.11/dist-packages (from pandas->datasets) (2025.1)\n",
            "Requirement already satisfied: sniffio>=1.1 in /usr/local/lib/python3.11/dist-packages (from anyio<5,>=3.6.2->starlette<0.46.0,>=0.40.0->fastapi) (1.3.1)\n",
            "Requirement already satisfied: six>=1.5 in /usr/local/lib/python3.11/dist-packages (from python-dateutil>=2.8.2->pandas->datasets) (1.17.0)\n"
          ]
        }
      ],
      "source": [
        "#pip install transformers datasets torch fastapi uvicorn\n"
      ]
    },
    {
      "cell_type": "markdown",
      "source": [
        "## 📌 Step 2: Load a Small Sentiment Analysis Dataset\n",
        "\n",
        "We need a dataset to train the model. **Yelp Review dataset** contains movie reviews labeled as **positive (1)** or **negative (0)**.\n"
      ],
      "metadata": {
        "id": "p6kkeYwGW6aY"
      }
    },
    {
      "cell_type": "markdown",
      "source": [
        "\n",
        "\n",
        "#### Importing Required Libraries\n",
        "The script begins by importing the necessary libraries:\n",
        "\n",
        "- `torch`: Provides deep learning functionalities.\n",
        "- `pandas`: Used for handling and processing structured data.\n",
        "- `datasets`: Loads NLP datasets from Hugging Face.\n",
        "- `transformers`: Contains pretrained NLP models and training utilities.\n",
        "- `sklearn.model_selection`: Used to split the dataset into training and test sets.\n",
        "\n",
        "#### Loading the Yelp Review Dataset\n",
        "The dataset is loaded using the `datasets` library. It selects **2000 samples** from the Yelp review dataset's training split and converts it into a Pandas DataFrame for easy manipulation.\n",
        "\n",
        "#### Converting Star Ratings to Binary Sentiment Labels\n",
        "The dataset originally contains **star ratings from 1 to 5**:\n",
        "- **3-star reviews** are removed to eliminate neutral sentiments.\n",
        "- Ratings **4 and 5** are labeled as **positive (1)**.\n",
        "- Ratings **1 and 2** are labeled as **negative (0)**.\n",
        "This conversion allows the dataset to be used for binary sentiment classification.\n",
        "\n",
        "#### Shuffling the Dataset\n",
        "To ensure randomness, the dataset is shuffled using `df.sample(frac=1, random_state=42)`. The `random_state` parameter ensures that the shuffle order remains consistent across different runs.\n",
        "\n",
        "#### Displaying Dataset Information\n",
        "To validate the preprocessing steps:\n",
        "- `df.head()` prints a preview of the first few records.\n",
        "- `df[\"label\"].value_counts()` checks the distribution of positive and negative samples to verify balance in the dataset.\n",
        "\n",
        "This processed dataset is now ready to be used for training a **binary sentiment classification model**.\n"
      ],
      "metadata": {
        "id": "IAZ_I_4nJ0db"
      }
    },
    {
      "cell_type": "code",
      "source": [
        "import torch\n",
        "import pandas as pd\n",
        "from datasets import load_dataset, Dataset\n",
        "from transformers import AutoTokenizer, AutoModelForSequenceClassification, Trainer, TrainingArguments\n",
        "from sklearn.model_selection import train_test_split"
      ],
      "metadata": {
        "id": "Tr9pyL_O9sDv"
      },
      "execution_count": null,
      "outputs": []
    },
    {
      "cell_type": "code",
      "source": [
        "from datasets import load_dataset\n",
        "import pandas as pd\n",
        "\n",
        "# Load the IMDb dataset (only 2000 samples for quick training)\n",
        "dataset = load_dataset(\"yelp_review_full\", split=\"train[:2000]\")\n",
        "df = pd.DataFrame(dataset)\n",
        "\n",
        "\n",
        "# Convert star ratings to binary sentiment labels\n",
        "df = df[df[\"label\"] != 2]  # Remove 3-star neutral reviews\n",
        "df[\"label\"] = df[\"label\"].apply(lambda x: 1 if x > 2 else 0)  # 4-5 stars -> Positive (1), 1-2 stars -> Negative (0)\n",
        "\n",
        "# Shuffle dataset\n",
        "df = df.sample(frac=1, random_state=42)\n",
        "\n",
        "# Display dataset info\n",
        "print(df.head())\n",
        "print(df[\"label\"].value_counts())  # Check label distribution\n",
        "\n",
        "\n"
      ],
      "metadata": {
        "colab": {
          "base_uri": "https://localhost:8080/"
        },
        "id": "T09il873Vj7P",
        "outputId": "afa05e21-e8ec-4859-b7c9-5279c70c4ab6"
      },
      "execution_count": null,
      "outputs": [
        {
          "output_type": "stream",
          "name": "stdout",
          "text": [
            "     label                                               text\n",
            "696      1  Named for Pittsburgh greats, Gene Kelly and Bi...\n",
            "850      1  Love Casbah.  Been going there for years and h...\n",
            "930      1  This Valentines Day I ordered a pizza for my b...\n",
            "520      1  We are fans of Pistella Beer Distributors simp...\n",
            "221      0        Slow service\\nBelow average food \\nIll pass\n",
            "label\n",
            "0    833\n",
            "1    734\n",
            "Name: count, dtype: int64\n"
          ]
        }
      ]
    },
    {
      "cell_type": "markdown",
      "source": [
        "## 📌 Step 3: Data Preprocessing\n",
        "\n",
        "- Raw text might contain **extra spaces or unnecessary symbols**.  \n",
        "- **Clean text** to improve training efficiency.\n"
      ],
      "metadata": {
        "id": "udPG7GR9WW18"
      }
    },
    {
      "cell_type": "code",
      "source": [
        "# 📌 Clean and Preprocess Text\n",
        "import re\n",
        "\n",
        "def clean_text(text):\n",
        "    \"\"\"Remove extra spaces and unwanted characters.\"\"\"\n",
        "    text = text.strip()\n",
        "    text = re.sub(r'\\s+', ' ', text)\n",
        "    return text\n",
        "\n",
        "df[\"text\"] = df[\"text\"].apply(clean_text)\n",
        "print(\"✅ Text cleaning completed!\")\n"
      ],
      "metadata": {
        "colab": {
          "base_uri": "https://localhost:8080/"
        },
        "id": "und7ZFgYXNc_",
        "outputId": "d5f838d2-7064-43d4-82f7-df6f4599906c"
      },
      "execution_count": null,
      "outputs": [
        {
          "output_type": "stream",
          "name": "stdout",
          "text": [
            "✅ Text cleaning completed!\n"
          ]
        }
      ]
    },
    {
      "cell_type": "markdown",
      "source": [
        "## 📌 Step 4: Tokenization\n",
        "\n",
        "- ML models cannot **directly** process raw text  \n",
        "- Convert text into **numerical representations (tokens)**  \n",
        "- **DistilBERT tokenizer** converts words into **token IDs**  \n"
      ],
      "metadata": {
        "id": "L95MPPALXRxf"
      }
    },
    {
      "cell_type": "code",
      "source": [
        "from transformers import AutoTokenizer\n",
        "\n",
        "# 📌 Tokenization\n",
        "tokenizer = AutoTokenizer.from_pretrained(\"distilbert-base-uncased\")\n",
        "\n",
        "def tokenize_function(example):\n",
        "    \"\"\"Tokenize text with DistilBERT tokenizer.\"\"\"\n",
        "    encoding = tokenizer(\n",
        "        example[\"text\"],\n",
        "        truncation=True,\n",
        "        padding=\"max_length\",\n",
        "        max_length=256,\n",
        "    )\n",
        "    encoding[\"label\"] = example[\"label\"]  # Add labels\n",
        "    return encoding\n",
        "\n",
        "# Apply tokenization\n",
        "df[\"tokens\"] = df.apply(tokenize_function, axis=1)\n",
        "print(\"✅ Tokenization completed!\")\n"
      ],
      "metadata": {
        "colab": {
          "base_uri": "https://localhost:8080/"
        },
        "id": "RSAb1wsrXPv6",
        "outputId": "505954c9-9cae-4e0b-fe3a-ba452027639e"
      },
      "execution_count": null,
      "outputs": [
        {
          "output_type": "stream",
          "name": "stdout",
          "text": [
            "✅ Tokenization completed!\n"
          ]
        }
      ]
    },
    {
      "cell_type": "markdown",
      "source": [
        "## 📌 Step 5: Load DistilBERT Model & Train on CPU\n",
        "\n",
        "- We **use DistilBERT** (lighter version of BERT)  \n",
        "- Fine-tune the model for **sentiment analysis**    \n"
      ],
      "metadata": {
        "id": "ZD-LzDp9XhdQ"
      }
    },
    {
      "cell_type": "code",
      "source": [
        "\n",
        "# 📌 Prepare Data for Training\n",
        "# Convert tokenized text into input IDs and attention masks\n",
        "df[\"input_ids\"] = df[\"tokens\"].apply(lambda x: x[\"input_ids\"])\n",
        "df[\"attention_mask\"] = df[\"tokens\"].apply(lambda x: x[\"attention_mask\"])\n",
        "\n",
        "# Drop unnecessary columns\n",
        "df = df.drop(columns=[\"tokens\"])\n",
        "\n",
        "# Train-test split (80% train, 20% validation)\n",
        "train_df, eval_df = train_test_split(df, test_size=0.2, random_state=42)\n",
        "\n",
        "# Convert to Hugging Face Dataset format\n",
        "train_dataset = Dataset.from_pandas(train_df)\n",
        "eval_dataset = Dataset.from_pandas(eval_df)\n",
        "\n",
        "print(f\"✅ Train size: {len(train_dataset)}, Eval size: {len(eval_dataset)}\")\n",
        "\n"
      ],
      "metadata": {
        "colab": {
          "base_uri": "https://localhost:8080/"
        },
        "id": "X7bRI1GA8Qo7",
        "outputId": "817e6dd5-a23d-4489-8b90-8384625b17f0"
      },
      "execution_count": null,
      "outputs": [
        {
          "output_type": "stream",
          "name": "stdout",
          "text": [
            "✅ Train size: 1253, Eval size: 314\n"
          ]
        }
      ]
    },
    {
      "cell_type": "code",
      "source": [
        "import torch\n",
        "from transformers import AutoModelForSequenceClassification\n",
        "\n",
        "# ✅ Load DistilBERT model for Sentiment Analysis (Binary Classification: Positive/Negative)\n",
        "model = AutoModelForSequenceClassification.from_pretrained(\"distilbert-base-uncased\", num_labels=2)\n",
        "\n",
        "# ✅ Explicitly use CPU\n",
        "device = torch.device(\"cpu\")  # Ensures no GPU usage\n",
        "model.to(device)\n",
        "\n",
        "print(\"✅ Model loaded successfully on CPU!\")\n"
      ],
      "metadata": {
        "colab": {
          "base_uri": "https://localhost:8080/"
        },
        "id": "Gs5aMotXYOlM",
        "outputId": "d549097c-e08b-428f-94dd-f0a1a392676b"
      },
      "execution_count": null,
      "outputs": [
        {
          "output_type": "stream",
          "name": "stderr",
          "text": [
            "Some weights of DistilBertForSequenceClassification were not initialized from the model checkpoint at distilbert-base-uncased and are newly initialized: ['classifier.bias', 'classifier.weight', 'pre_classifier.bias', 'pre_classifier.weight']\n",
            "You should probably TRAIN this model on a down-stream task to be able to use it for predictions and inference.\n"
          ]
        },
        {
          "output_type": "stream",
          "name": "stdout",
          "text": [
            "✅ Model loaded successfully on CPU!\n"
          ]
        }
      ]
    },
    {
      "cell_type": "code",
      "source": [
        "# 📌 Automatically Select GPU if Available\n",
        "device = torch.device(\"cuda\" if torch.cuda.is_available() else \"cpu\")\n",
        "print(f\"✅ Using Device: {device}\")\n"
      ],
      "metadata": {
        "colab": {
          "base_uri": "https://localhost:8080/"
        },
        "id": "VPDTeQzg96V1",
        "outputId": "38473e15-ca92-492e-fd96-909b9473bdf2"
      },
      "execution_count": null,
      "outputs": [
        {
          "output_type": "stream",
          "name": "stdout",
          "text": [
            "✅ Using Device: cpu\n"
          ]
        }
      ]
    },
    {
      "cell_type": "code",
      "source": [
        "# 📌 Load DistilBERT Model\n",
        "model = AutoModelForSequenceClassification.from_pretrained(\"distilbert-base-uncased\", num_labels=2)\n",
        "model.to(device)\n",
        "\n",
        "print(\"✅ Model loaded successfully!\")\n"
      ],
      "metadata": {
        "colab": {
          "base_uri": "https://localhost:8080/",
          "height": 121,
          "referenced_widgets": [
            "328901608b864457960b50808996ee51",
            "6a04ddbcbfd14ae98fc1065d2d9eafec",
            "ff91099d4e1040b7b7e22b419971b163",
            "afcb7474c27e4a929a0cd7aa939243e5",
            "466146fb1521479389f9914a2bed71c3",
            "1c7579e139af4704a1ffd3ed31e446a8",
            "4900fe33a5464e329d5f14e285ca6ffb",
            "cabbfa3a553246e4b78e005dc6f272e1",
            "f99deceab332450aa320671f14bf7d57",
            "a6c9c98da957477f9ff3b11ae5c0435d",
            "5da04776c44c4375a32174365d440756"
          ]
        },
        "id": "W3q7qE6w9-Ev",
        "outputId": "1a593ec4-843e-4b92-b970-a989adef0963"
      },
      "execution_count": null,
      "outputs": [
        {
          "output_type": "display_data",
          "data": {
            "text/plain": [
              "model.safetensors:   0%|          | 0.00/268M [00:00<?, ?B/s]"
            ],
            "application/vnd.jupyter.widget-view+json": {
              "version_major": 2,
              "version_minor": 0,
              "model_id": "328901608b864457960b50808996ee51"
            }
          },
          "metadata": {}
        },
        {
          "output_type": "stream",
          "name": "stderr",
          "text": [
            "Some weights of DistilBertForSequenceClassification were not initialized from the model checkpoint at distilbert-base-uncased and are newly initialized: ['classifier.bias', 'classifier.weight', 'pre_classifier.bias', 'pre_classifier.weight']\n",
            "You should probably TRAIN this model on a down-stream task to be able to use it for predictions and inference.\n"
          ]
        },
        {
          "output_type": "stream",
          "name": "stdout",
          "text": [
            "✅ Model loaded successfully!\n"
          ]
        }
      ]
    },
    {
      "cell_type": "markdown",
      "source": [
        "## 📌 **Training the DistilBERT Sentiment Model**\n",
        "### 🔧 **Key Steps**\n",
        "✔ Load the **DistilBERT model** with `num_labels=2` (Binary classification)  \n",
        "✔ Define **training parameters** optimized for CPU  \n",
        "✔ Use the **Hugging Face Trainer API** to train the model  \n"
      ],
      "metadata": {
        "id": "Z5aSNfQ3bZBF"
      }
    },
    {
      "cell_type": "code",
      "source": [
        "# ✅ Define Training Arguments\n",
        "training_args = TrainingArguments(\n",
        "    output_dir=\"./distilbert_sentiment_cpu\",  # Save the model output\n",
        "    per_device_train_batch_size=4,  # Small batch size for CPU\n",
        "    num_train_epochs=2,  # Keep it small for quick training\n",
        "    save_strategy=\"epoch\",\n",
        "    evaluation_strategy=\"epoch\",\n",
        "    logging_dir=\"./logs\",\n",
        "    learning_rate=3e-5,\n",
        "    save_total_limit=2,\n",
        "    no_cuda=True,  # ✅ Force CPU usage\n",
        ")\n",
        "\n",
        "# ✅ Initialize Trainer\n",
        "trainer = Trainer(\n",
        "    model=model,\n",
        "    args=training_args,\n",
        "    train_dataset=train_dataset,\n",
        "    eval_dataset=eval_dataset,  # Include evaluation dataset to avoid errors\n",
        ")\n",
        "\n",
        "# ✅ Start Training\n",
        "trainer.train()\n",
        "\n",
        "print(\"✅ Model Training Complete!\")\n"
      ],
      "metadata": {
        "colab": {
          "base_uri": "https://localhost:8080/",
          "height": 505
        },
        "id": "N8-vFDmNa5jg",
        "outputId": "1fe0c057-c79e-487a-81b9-8ad08a9de660"
      },
      "execution_count": null,
      "outputs": [
        {
          "output_type": "stream",
          "name": "stderr",
          "text": [
            "/usr/local/lib/python3.11/dist-packages/transformers/training_args.py:1575: FutureWarning: `evaluation_strategy` is deprecated and will be removed in version 4.46 of 🤗 Transformers. Use `eval_strategy` instead\n",
            "  warnings.warn(\n",
            "/usr/local/lib/python3.11/dist-packages/transformers/training_args.py:1590: FutureWarning: using `no_cuda` is deprecated and will be removed in version 5.0 of 🤗 Transformers. Use `use_cpu` instead\n",
            "  warnings.warn(\n",
            "\u001b[34m\u001b[1mwandb\u001b[0m: \u001b[33mWARNING\u001b[0m The `run_name` is currently set to the same value as `TrainingArguments.output_dir`. If this was not intended, please specify a different run name by setting the `TrainingArguments.run_name` parameter.\n"
          ]
        },
        {
          "output_type": "display_data",
          "data": {
            "text/plain": [
              "<IPython.core.display.Javascript object>"
            ],
            "application/javascript": [
              "\n",
              "        window._wandbApiKey = new Promise((resolve, reject) => {\n",
              "            function loadScript(url) {\n",
              "            return new Promise(function(resolve, reject) {\n",
              "                let newScript = document.createElement(\"script\");\n",
              "                newScript.onerror = reject;\n",
              "                newScript.onload = resolve;\n",
              "                document.body.appendChild(newScript);\n",
              "                newScript.src = url;\n",
              "            });\n",
              "            }\n",
              "            loadScript(\"https://cdn.jsdelivr.net/npm/postmate/build/postmate.min.js\").then(() => {\n",
              "            const iframe = document.createElement('iframe')\n",
              "            iframe.style.cssText = \"width:0;height:0;border:none\"\n",
              "            document.body.appendChild(iframe)\n",
              "            const handshake = new Postmate({\n",
              "                container: iframe,\n",
              "                url: 'https://wandb.ai/authorize'\n",
              "            });\n",
              "            const timeout = setTimeout(() => reject(\"Couldn't auto authenticate\"), 5000)\n",
              "            handshake.then(function(child) {\n",
              "                child.on('authorize', data => {\n",
              "                    clearTimeout(timeout)\n",
              "                    resolve(data)\n",
              "                });\n",
              "            });\n",
              "            })\n",
              "        });\n",
              "    "
            ]
          },
          "metadata": {}
        },
        {
          "output_type": "stream",
          "name": "stderr",
          "text": [
            "\u001b[34m\u001b[1mwandb\u001b[0m: Logging into wandb.ai. (Learn how to deploy a W&B server locally: https://wandb.me/wandb-server)\n",
            "\u001b[34m\u001b[1mwandb\u001b[0m: You can find your API key in your browser here: https://wandb.ai/authorize\n",
            "wandb: Paste an API key from your profile and hit enter:"
          ]
        },
        {
          "name": "stdout",
          "output_type": "stream",
          "text": [
            " ··········\n"
          ]
        },
        {
          "output_type": "stream",
          "name": "stderr",
          "text": [
            "\u001b[34m\u001b[1mwandb\u001b[0m: \u001b[33mWARNING\u001b[0m If you're specifying your api key in code, ensure this code is not shared publicly.\n",
            "\u001b[34m\u001b[1mwandb\u001b[0m: \u001b[33mWARNING\u001b[0m Consider setting the WANDB_API_KEY environment variable, or running `wandb login` from the command line.\n",
            "\u001b[34m\u001b[1mwandb\u001b[0m: Appending key for api.wandb.ai to your netrc file: /root/.netrc\n",
            "\u001b[34m\u001b[1mwandb\u001b[0m: Currently logged in as: \u001b[33mshrinidhisudhir\u001b[0m (\u001b[33mshrinidhisudhir-university-of-houston\u001b[0m) to \u001b[32mhttps://api.wandb.ai\u001b[0m. Use \u001b[1m`wandb login --relogin`\u001b[0m to force relogin\n",
            "\u001b[34m\u001b[1mwandb\u001b[0m: Using wandb-core as the SDK backend.  Please refer to https://wandb.me/wandb-core for more information.\n"
          ]
        },
        {
          "output_type": "display_data",
          "data": {
            "text/plain": [
              "<IPython.core.display.HTML object>"
            ],
            "text/html": [
              "Tracking run with wandb version 0.19.6"
            ]
          },
          "metadata": {}
        },
        {
          "output_type": "display_data",
          "data": {
            "text/plain": [
              "<IPython.core.display.HTML object>"
            ],
            "text/html": [
              "Run data is saved locally in <code>/content/wandb/run-20250220_201100-44l9512y</code>"
            ]
          },
          "metadata": {}
        },
        {
          "output_type": "display_data",
          "data": {
            "text/plain": [
              "<IPython.core.display.HTML object>"
            ],
            "text/html": [
              "Syncing run <strong><a href='https://wandb.ai/shrinidhisudhir-university-of-houston/huggingface/runs/44l9512y' target=\"_blank\">./distilbert_sentiment_cpu</a></strong> to <a href='https://wandb.ai/shrinidhisudhir-university-of-houston/huggingface' target=\"_blank\">Weights & Biases</a> (<a href='https://wandb.me/developer-guide' target=\"_blank\">docs</a>)<br>"
            ]
          },
          "metadata": {}
        },
        {
          "output_type": "display_data",
          "data": {
            "text/plain": [
              "<IPython.core.display.HTML object>"
            ],
            "text/html": [
              " View project at <a href='https://wandb.ai/shrinidhisudhir-university-of-houston/huggingface' target=\"_blank\">https://wandb.ai/shrinidhisudhir-university-of-houston/huggingface</a>"
            ]
          },
          "metadata": {}
        },
        {
          "output_type": "display_data",
          "data": {
            "text/plain": [
              "<IPython.core.display.HTML object>"
            ],
            "text/html": [
              " View run at <a href='https://wandb.ai/shrinidhisudhir-university-of-houston/huggingface/runs/44l9512y' target=\"_blank\">https://wandb.ai/shrinidhisudhir-university-of-houston/huggingface/runs/44l9512y</a>"
            ]
          },
          "metadata": {}
        },
        {
          "output_type": "display_data",
          "data": {
            "text/plain": [
              "<IPython.core.display.HTML object>"
            ],
            "text/html": [
              "\n",
              "    <div>\n",
              "      \n",
              "      <progress value='628' max='628' style='width:300px; height:20px; vertical-align: middle;'></progress>\n",
              "      [628/628 1:13:32, Epoch 2/2]\n",
              "    </div>\n",
              "    <table border=\"1\" class=\"dataframe\">\n",
              "  <thead>\n",
              " <tr style=\"text-align: left;\">\n",
              "      <th>Epoch</th>\n",
              "      <th>Training Loss</th>\n",
              "      <th>Validation Loss</th>\n",
              "    </tr>\n",
              "  </thead>\n",
              "  <tbody>\n",
              "    <tr>\n",
              "      <td>1</td>\n",
              "      <td>No log</td>\n",
              "      <td>0.288268</td>\n",
              "    </tr>\n",
              "    <tr>\n",
              "      <td>2</td>\n",
              "      <td>0.320100</td>\n",
              "      <td>0.340406</td>\n",
              "    </tr>\n",
              "  </tbody>\n",
              "</table><p>"
            ]
          },
          "metadata": {}
        },
        {
          "output_type": "stream",
          "name": "stdout",
          "text": [
            "✅ Model Training Complete!\n"
          ]
        }
      ]
    },
    {
      "cell_type": "markdown",
      "source": [
        "## 📌 **Evaluating Model Performance**\n",
        "### 🔧 **Key Steps**\n",
        "✔ Compute **accuracy** on the evaluation dataset  \n",
        "✔ Use `Trainer.evaluate()` to get loss & metrics  \n"
      ],
      "metadata": {
        "id": "c3H8Aq7FmnGt"
      }
    },
    {
      "cell_type": "code",
      "source": [
        "# ✅ Evaluate the model\n",
        "eval_results = trainer.evaluate()\n",
        "print(f\"✅ Evaluation Results: {eval_results}\")\n"
      ],
      "metadata": {
        "colab": {
          "base_uri": "https://localhost:8080/",
          "height": 74
        },
        "id": "ch_xr8Tdbc0G",
        "outputId": "ba5bbd3d-11fb-461f-a763-cd834d4815c4"
      },
      "execution_count": null,
      "outputs": [
        {
          "output_type": "display_data",
          "data": {
            "text/plain": [
              "<IPython.core.display.HTML object>"
            ],
            "text/html": [
              "\n",
              "    <div>\n",
              "      \n",
              "      <progress value='40' max='40' style='width:300px; height:20px; vertical-align: middle;'></progress>\n",
              "      [40/40 02:21]\n",
              "    </div>\n",
              "    "
            ]
          },
          "metadata": {}
        },
        {
          "output_type": "stream",
          "name": "stdout",
          "text": [
            "✅ Evaluation Results: {'eval_loss': 0.34040603041648865, 'eval_runtime': 146.3712, 'eval_samples_per_second': 2.145, 'eval_steps_per_second': 0.273, 'epoch': 2.0}\n"
          ]
        }
      ]
    },
    {
      "cell_type": "markdown",
      "source": [
        "## 📌 **Saving the Model for Deployment**\n",
        "### 🔧 **Key Steps**\n",
        "✔ Save model & tokenizer for later inference  \n",
        "✔ Use `save_pretrained()` for easy loading  \n"
      ],
      "metadata": {
        "id": "fzYlUH2ZmsiJ"
      }
    },
    {
      "cell_type": "code",
      "source": [
        "# ✅ Save trained model\n",
        "model.save_pretrained(\"./distilbert_sentiment_model\")\n",
        "tokenizer.save_pretrained(\"./distilbert_sentiment_model\")\n",
        "\n",
        "print(\"✅ Model and Tokenizer Saved Successfully!\")\n"
      ],
      "metadata": {
        "colab": {
          "base_uri": "https://localhost:8080/"
        },
        "id": "21uStUfCmuw1",
        "outputId": "56c4671b-a60d-478f-b9ab-30a5582b47c8"
      },
      "execution_count": null,
      "outputs": [
        {
          "output_type": "stream",
          "name": "stdout",
          "text": [
            "✅ Model and Tokenizer Saved Successfully!\n"
          ]
        }
      ]
    },
    {
      "cell_type": "markdown",
      "source": [
        "## 📌 **Testing the Sentiment Analysis Model**\n",
        "### 🔧 **Key Steps**\n",
        "✔ Tokenize a **new sentence**  \n",
        "✔ Use model **to predict sentiment (positive/negative)**  \n",
        "✔ Convert **logits to probabilities** using softmax  \n"
      ],
      "metadata": {
        "id": "NWOO5kqTm1IT"
      }
    },
    {
      "cell_type": "code",
      "source": [
        "import torch\n",
        "from transformers import AutoTokenizer\n",
        "\n",
        "# ✅ Load the trained model and tokenizer\n",
        "tokenizer = AutoTokenizer.from_pretrained(\"./distilbert_sentiment_model\")\n",
        "model = AutoModelForSequenceClassification.from_pretrained(\"./distilbert_sentiment_model\")\n",
        "model.to(\"cpu\")  # ✅ Force CPU usage\n",
        "\n",
        "# ✅ Function to predict sentiment\n",
        "def predict_sentiment(text):\n",
        "    inputs = tokenizer(text, return_tensors=\"pt\", truncation=True, padding=\"max_length\", max_length=256)\n",
        "    with torch.no_grad():\n",
        "        outputs = model(**inputs)\n",
        "    logits = outputs.logits\n",
        "    predicted_class = torch.argmax(logits, dim=1).item()\n",
        "\n",
        "    sentiment = \"Positive\" if predicted_class == 1 else \"Negative\"\n",
        "    return sentiment\n",
        "\n",
        "# ✅ Test the model with new input\n",
        "#test_sentence = \"I absolutely hated the movie! It was bad.\"\n",
        "test = input(\"Enter a string:\")\n",
        "#predicted_sentiment = predict_sentiment(test_sentence)\n",
        "predicted_sentiment = predict_sentiment(test)\n",
        "\n",
        "\n",
        "print(f\"✅ Sentiment Prediction: {predicted_sentiment}\")\n"
      ],
      "metadata": {
        "colab": {
          "base_uri": "https://localhost:8080/"
        },
        "id": "MOwKqDWrm15M",
        "outputId": "03288e61-8190-4566-db47-fbcf7c444783"
      },
      "execution_count": null,
      "outputs": [
        {
          "output_type": "stream",
          "name": "stdout",
          "text": [
            "Enter a string:Glad it works!\n",
            "✅ Sentiment Prediction: Positive\n"
          ]
        }
      ]
    },
    {
      "cell_type": "markdown",
      "source": [
        "## 📌 **Deploying Sentiment Model as an API**\n",
        "### 🔧 **Key Steps**\n",
        "✔ Use **FastAPI** to create an API endpoint  \n",
        "✔ Accept **user input** & return **sentiment predictions**  \n",
        "✔ Run API with **Uvicorn**  \n"
      ],
      "metadata": {
        "id": "_JLUWqVIm7AB"
      }
    }
  ]
}